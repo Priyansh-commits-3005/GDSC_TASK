{
 "cells": [
  {
   "attachments": {},
   "cell_type": "markdown",
   "metadata": {},
   "source": [
    "CLASSIFICATION\n"
   ]
  },
  {
   "cell_type": "code",
   "execution_count": null,
   "metadata": {},
   "outputs": [],
   "source": [
    "import pandas as pd\n",
    "dataset = pd.read_csv(\"exams.csv\")\n",
    "\n",
    "\n",
    "X = dataset.drop(['math score','reading score','writing score','Total Score','Pass Status'],axis = 1)\n",
    "y = dataset['Pass Status']\n",
    "\n",
    "\n",
    "#replacing male value as 0 and female as 1 group A-E -> 0-4 \n",
    "dataset_index = {'male':0,'female':1,'group A':0,'group B':1,'group C':2,'group D':3,'group E':4,\"some college\" : 0,\"high school\" :1 , \"some high school\":1 , \"associate's degree\": 2,\"bachelor's degree\":3,\"master's degree\":4,\"standard\":0,\"free/reduced\":1,\"none\":0,\"completed\":1}\n",
    "\n",
    "X.replace(to_replace='male',value=0,inplace=True)\n",
    "X.replace(to_replace='female',value=1,inplace=True)\n",
    "\n",
    "X.replace(to_replace= 'group A',value = 0,inplace = True)\n",
    "X.replace(to_replace= 'group B',value = 1,inplace = True)\n",
    "X.replace(to_replace= 'group C',value = 2,inplace = True)\n",
    "X.replace(to_replace= 'group D',value = 3,inplace = True)\n",
    "X.replace(to_replace= 'group E',value = 4,inplace = True)\n",
    "\n",
    "X.replace(to_replace= 'some college',value = 0,inplace = True)\n",
    "X.replace(to_replace= 'high school',value = 1,inplace = True)\n",
    "X.replace(to_replace= \"associate's degree\",value = 2,inplace = True)\n",
    "X.replace(to_replace= \"some high school\",value = 1,inplace = True)\n",
    "X.replace(to_replace= \"bachelor's degree\",value = 3,inplace = True)\n",
    "X.replace(to_replace=\"master's degree\" , value=4,inplace=True)\n",
    "\n",
    "X.replace(to_replace= \"standard\",value = 0,inplace = True)\n",
    "X.replace(to_replace= \"free/reduced\",value = 1,inplace = True)\n",
    "\n",
    "X.replace(to_replace= \"none\",value = 0,inplace = True)\n",
    "X.replace(to_replace= \"completed\",value = 1,inplace = True)\n",
    "\n"
   ]
  },
  {
   "attachments": {},
   "cell_type": "markdown",
   "metadata": {},
   "source": [
    "accuracy measurement"
   ]
  },
  {
   "cell_type": "code",
   "execution_count": null,
   "metadata": {},
   "outputs": [],
   "source": [
    "from sklearn.model_selection import train_test_split\n",
    "from sklearn.tree import DecisionTreeClassifier\n",
    "from sklearn.metrics import accuracy_score\n",
    "\n",
    "X_train,X_test,y_train,y_test = train_test_split(X,y,test_size=0.2,)\n",
    "\n",
    "model = DecisionTreeClassifier()\n",
    "model.fit(X_train,y_train)\n",
    "test_predictions = model.predict(X_test)\n",
    "\n"
   ]
  },
  {
   "cell_type": "code",
   "execution_count": null,
   "metadata": {},
   "outputs": [],
   "source": [
    "score_accuracy = accuracy_score(y_test,test_predictions)\n",
    "score_accuracy\n"
   ]
  },
  {
   "attachments": {},
   "cell_type": "markdown",
   "metadata": {},
   "source": [
    "taking input from user from prediction \n"
   ]
  },
  {
   "cell_type": "code",
   "execution_count": null,
   "metadata": {},
   "outputs": [],
   "source": [
    "inputs_corr = True\n",
    "while inputs_corr:\n",
    "    \n",
    "    try:\n",
    "        gender = input(\" enter your gender : \")\n",
    "        ethnicity = input(\"enter your ethnicity from [group A,group B,group C, group D, group E] : \")\n",
    "        parents_loe = input(\"enter your parent's level of education from [some college,high school,associate's degree,bachelor's degree,master's degree]: \")\n",
    "        lunch = input(\"enter if you are provided free/reduced or standard lunch(enter 'free/reduced' or 'standard') : \")\n",
    "        test_prep_course = input(\"enter if you have completed the test or not(enter 'none' if not completed and 'completed' otherwise)\")\n",
    "        list_input = [dataset_index[gender],dataset_index[ethnicity],dataset_index[parents_loe],dataset_index[lunch],dataset_index[test_prep_course]]\n",
    "        inputs_corr = False\n",
    "    except KeyError:\n",
    "        print(\"there was a mistake in your input try again\")\n",
    "        inputs_corr = True"
   ]
  },
  {
   "cell_type": "code",
   "execution_count": null,
   "metadata": {},
   "outputs": [],
   "source": [
    "\n",
    "\n",
    "predictions = model.predict([list_input])\n",
    "predictions\n"
   ]
  }
 ],
 "metadata": {
  "kernelspec": {
   "display_name": "Python 3",
   "language": "python",
   "name": "python3"
  },
  "language_info": {
   "codemirror_mode": {
    "name": "ipython",
    "version": 3
   },
   "file_extension": ".py",
   "mimetype": "text/x-python",
   "name": "python",
   "nbconvert_exporter": "python",
   "pygments_lexer": "ipython3",
   "version": "3.11.0"
  },
  "orig_nbformat": 4
 },
 "nbformat": 4,
 "nbformat_minor": 2
}
