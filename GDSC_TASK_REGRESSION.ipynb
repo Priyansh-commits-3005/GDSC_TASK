{
 "cells": [
  {
   "attachments": {},
   "cell_type": "markdown",
   "metadata": {},
   "source": [
    "REGRESSION\n"
   ]
  },
  {
   "cell_type": "code",
   "execution_count": 41,
   "metadata": {},
   "outputs": [],
   "source": [
    "import pandas as pd\n",
    "from sklearn.model_selection import train_test_split\n",
    "dataset = pd.read_csv(\"exams.csv\")\n",
    "\n",
    "X = dataset.drop(['math score','reading score','writing score','Total Score','Pass Status'],axis = 1)\n",
    "\n",
    "#replacing male value as 0 and female as 1 group A-E -> 0-4 \n",
    "dataset_index = {'male':0,'female':1,'group A':0,'group B':1,'group C':2,'group D':3,'group E':4,\"some college\" : 0,\"high school\" :1 , \"some high school\":1 , \"associate's degree\": 2,\"bachelor's degree\":3,\"master's degree\":4,\"standard\":0,\"free/reduced\":1,\"none\":0,\"completed\":1}\n",
    "\n",
    "X.replace(to_replace='male',value=0,inplace=True)\n",
    "X.replace(to_replace='female',value=1,inplace=True)\n",
    "\n",
    "X.replace(to_replace= 'group A',value = 0,inplace = True)\n",
    "X.replace(to_replace= 'group B',value = 1,inplace = True)\n",
    "X.replace(to_replace= 'group C',value = 2,inplace = True)\n",
    "X.replace(to_replace= 'group D',value = 3,inplace = True)\n",
    "X.replace(to_replace= 'group E',value = 4,inplace = True)\n",
    "\n",
    "X.replace(to_replace= 'some college',value = 0,inplace = True)\n",
    "X.replace(to_replace= 'high school',value = 1,inplace = True)\n",
    "X.replace(to_replace= \"associate's degree\",value = 2,inplace = True)\n",
    "X.replace(to_replace= \"some high school\",value = 1,inplace = True)\n",
    "X.replace(to_replace= \"bachelor's degree\",value = 3,inplace = True)\n",
    "X.replace(to_replace=\"master's degree\" , value=4,inplace=True)\n",
    "\n",
    "X.replace(to_replace= \"standard\",value = 0,inplace = True)\n",
    "X.replace(to_replace= \"free/reduced\",value = 1,inplace = True)\n",
    "\n",
    "X.replace(to_replace= \"none\",value = 0,inplace = True)\n",
    "X.replace(to_replace= \"completed\",value = 1,inplace = True)"
   ]
  },
  {
   "cell_type": "code",
   "execution_count": 42,
   "metadata": {},
   "outputs": [],
   "source": [
    "y1 = dataset[['math score','reading score','writing score'] ]\n",
    "X1_train,X1_test,y1_train,y1_test = train_test_split(X,y1,test_size=0.2,random_state=42)\n"
   ]
  },
  {
   "attachments": {},
   "cell_type": "markdown",
   "metadata": {},
   "source": [
    "creating the model and reporting the mean squared error"
   ]
  },
  {
   "cell_type": "code",
   "execution_count": 43,
   "metadata": {},
   "outputs": [
    {
     "data": {
      "text/plain": [
       "150.6425658743601"
      ]
     },
     "execution_count": 43,
     "metadata": {},
     "output_type": "execute_result"
    }
   ],
   "source": [
    "from sklearn.linear_model import LinearRegression\n",
    "from sklearn.metrics import mean_squared_error\n",
    "model1 = LinearRegression()\n",
    "model1.fit(X1_train,y1_train)\n",
    "test_predictions1 = model1.predict(X1_test)\n",
    "test_predictions1\n",
    "\n",
    "# mean squeared error\n",
    "\n",
    "score_error = mean_squared_error(y1_test,test_predictions1)\n",
    "score_error"
   ]
  },
  {
   "attachments": {},
   "cell_type": "markdown",
   "metadata": {},
   "source": [
    "taking inputs \n"
   ]
  },
  {
   "cell_type": "code",
   "execution_count": 44,
   "metadata": {},
   "outputs": [],
   "source": [
    "inputs_corr = True\n",
    "while inputs_corr:\n",
    "    \n",
    "    try:\n",
    "        gender = input(\" enter your gender : \")\n",
    "        ethnicity = input(\"enter your ethnicity from [group A,group B,group C, group D, group E] : \")\n",
    "        parents_loe = input(\"enter your parent's level of education from [some college,high school,associate's degree,bachelor's degree,master's degree]: \")\n",
    "        lunch = input(\"enter if you are provided free/reduced or standard lunch(enter 'free/reduced' or 'standard') : \")\n",
    "        test_prep_course = input(\"enter if you have completed the test or not(enter 'none' if not completed and 'completed' otherwise)\")\n",
    "        list_input = [dataset_index[gender],dataset_index[ethnicity],dataset_index[parents_loe],dataset_index[lunch],dataset_index[test_prep_course]]\n",
    "        inputs_corr = False\n",
    "    except KeyError:\n",
    "        print(\"there was a mistake in your input try again\")\n",
    "        inputs_corr = True"
   ]
  },
  {
   "attachments": {},
   "cell_type": "markdown",
   "metadata": {},
   "source": [
    "making predictions\n"
   ]
  },
  {
   "cell_type": "code",
   "execution_count": 45,
   "metadata": {},
   "outputs": [
    {
     "name": "stderr",
     "output_type": "stream",
     "text": [
      "c:\\Users\\hp\\AppData\\Local\\Programs\\Python\\Python311\\Lib\\site-packages\\sklearn\\base.py:439: UserWarning: X does not have valid feature names, but LinearRegression was fitted with feature names\n",
      "  warnings.warn(\n"
     ]
    },
    {
     "data": {
      "text/plain": [
       "array([[63.55771492, 61.26488335, 56.98740222]])"
      ]
     },
     "execution_count": 45,
     "metadata": {},
     "output_type": "execute_result"
    }
   ],
   "source": [
    "predictions1 = model1.predict([list_input])\n",
    "predictions1"
   ]
  }
 ],
 "metadata": {
  "kernelspec": {
   "display_name": "Python 3",
   "language": "python",
   "name": "python3"
  },
  "language_info": {
   "codemirror_mode": {
    "name": "ipython",
    "version": 3
   },
   "file_extension": ".py",
   "mimetype": "text/x-python",
   "name": "python",
   "nbconvert_exporter": "python",
   "pygments_lexer": "ipython3",
   "version": "3.11.0"
  },
  "orig_nbformat": 4
 },
 "nbformat": 4,
 "nbformat_minor": 2
}
